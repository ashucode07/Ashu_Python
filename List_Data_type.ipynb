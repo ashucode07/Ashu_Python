{
  "nbformat": 4,
  "nbformat_minor": 0,
  "metadata": {
    "colab": {
      "provenance": []
    },
    "kernelspec": {
      "name": "python3",
      "display_name": "Python 3"
    },
    "language_info": {
      "name": "python"
    }
  },
  "cells": [
    {
      "cell_type": "code",
      "execution_count": 19,
      "metadata": {
        "id": "HpmbKqI7jltH"
      },
      "outputs": [],
      "source": [
        "#List data type in python"
      ]
    },
    {
      "cell_type": "code",
      "source": [
        "#creating a list of different datatype\n",
        "a = [10, 20, \"GfG\", 40, True]\n",
        "a\n",
        "print(a)"
      ],
      "metadata": {
        "id": "2zIjaTnh7vpt",
        "outputId": "8062eaaa-8cc4-423e-bc9b-7538a79d7268",
        "colab": {
          "base_uri": "https://localhost:8080/"
        }
      },
      "execution_count": 13,
      "outputs": [
        {
          "output_type": "stream",
          "name": "stdout",
          "text": [
            "[10, 20, 'GfG', 40, True]\n"
          ]
        }
      ]
    },
    {
      "cell_type": "code",
      "source": [
        "# Accessing elements using indexing\n",
        "\n",
        "print(a[0])\n",
        "print(a[1])\n",
        "print(a[2])\n",
        "print(a[3])"
      ],
      "metadata": {
        "id": "mzgqzKxj78H2",
        "outputId": "c98c07b4-196f-4001-cca6-6561631ef4ee",
        "colab": {
          "base_uri": "https://localhost:8080/"
        }
      },
      "execution_count": 15,
      "outputs": [
        {
          "output_type": "stream",
          "name": "stdout",
          "text": [
            "10\n",
            "20\n",
            "GfG\n",
            "40\n"
          ]
        }
      ]
    },
    {
      "cell_type": "code",
      "source": [
        "# Checking types of elements\n",
        "print(type(a[2]))  # str\n",
        "print(type(a[4]))  # bool"
      ],
      "metadata": {
        "id": "P2VvcAdH8SsU",
        "outputId": "2e3adb92-83ca-4523-f42b-543c2c7e55c2",
        "colab": {
          "base_uri": "https://localhost:8080/"
        }
      },
      "execution_count": 16,
      "outputs": [
        {
          "output_type": "stream",
          "name": "stdout",
          "text": [
            "<class 'str'>\n",
            "<class 'bool'>\n"
          ]
        }
      ]
    },
    {
      "cell_type": "code",
      "source": [
        "# addidng the elements in the list >We can add elements to a list using the following methods:\n",
        "#append(): Adds an element at the end of the list.\n",
        "#extend(): Adds multiple elements to the end of the list.\n",
        "#insert(): Adds an element at a specific position.\n",
        "\n",
        "a = []\n",
        "#adding element in the last\n",
        "a.append(10)\n",
        "a\n",
        "a.insert(0,5)\n",
        "print(a)\n",
        "#adding multiple element\n",
        "a.extend([10,20,30,40])\n",
        "print(a)"
      ],
      "metadata": {
        "id": "QL-qA5FinNJT",
        "outputId": "b10922a1-400f-4bb1-8ad1-fca7bf407437",
        "colab": {
          "base_uri": "https://localhost:8080/"
        }
      },
      "execution_count": 6,
      "outputs": [
        {
          "output_type": "stream",
          "name": "stdout",
          "text": [
            "[5, 10]\n",
            "[5, 10, 10, 20, 30, 40]\n"
          ]
        }
      ]
    },
    {
      "cell_type": "code",
      "source": [
        "#we can change the element using its index\n",
        "a= [10,20,40,\"ashu\"]\n",
        "a\n",
        "a[1] = \"ashu\"\n",
        "a"
      ],
      "metadata": {
        "id": "mdS4h5tToZFg",
        "outputId": "a0ebb3d9-bf2d-474e-ebdd-0992b87d2594",
        "colab": {
          "base_uri": "https://localhost:8080/"
        }
      },
      "execution_count": 18,
      "outputs": [
        {
          "output_type": "execute_result",
          "data": {
            "text/plain": [
              "[10, 'ashu', 40, 'ashu']"
            ]
          },
          "metadata": {},
          "execution_count": 18
        }
      ]
    },
    {
      "cell_type": "code",
      "source": [
        "#We can remove elements from a list using:\n",
        "\n",
        "#remove(): Removes the first occurrence of an element.\n",
        "#pop(): Removes the element at a specific index or the last element if no index is specified.\n",
        "#del statement: Deletes an element at a specified index.\n",
        "a = [10, 20, 30, 40, 10,50]\n",
        "print(\"before remove:\", a)\n",
        "# Removes the first occurrence of 10\n",
        "a.remove(10)\n",
        "print(\"after remove 10:\", a)\n",
        "#removed element at index 1 (30)\n",
        "\n",
        "popped_value = a.pop(1)\n",
        "print(\"popped element:\", popped_value)\n",
        "print(a)\n",
        "\n",
        "#deletes the first element 20\n",
        "del a[0]\n",
        "a"
      ],
      "metadata": {
        "id": "H3v0VGuRqL-t",
        "outputId": "a006edc6-cf99-4b00-a767-d2c6b09558d0",
        "colab": {
          "base_uri": "https://localhost:8080/"
        }
      },
      "execution_count": 35,
      "outputs": [
        {
          "output_type": "stream",
          "name": "stdout",
          "text": [
            "before remove: [10, 20, 30, 40, 10, 50]\n",
            "after remove 10: [20, 30, 40, 10, 50]\n",
            "popped element: 30\n",
            "[20, 40, 10, 50]\n"
          ]
        },
        {
          "output_type": "execute_result",
          "data": {
            "text/plain": [
              "[40, 10, 50]"
            ]
          },
          "metadata": {},
          "execution_count": 35
        }
      ]
    },
    {
      "cell_type": "code",
      "source": [
        "#user inputs :  we can create list using the spilt method in python\n",
        "\n",
        "\n",
        "user_input = input(\"Enter elements separated by space: \").split()\n",
        "\n",
        "print(\"List:\", user_input)\n"
      ],
      "metadata": {
        "id": "Nd7ORZtVt3bB",
        "outputId": "fb0f7b9d-79f1-47c5-ba16-365975cff7e3",
        "colab": {
          "base_uri": "https://localhost:8080/"
        }
      },
      "execution_count": 41,
      "outputs": [
        {
          "output_type": "stream",
          "name": "stdout",
          "text": [
            "Enter elements separated by space: 10,20,34,34,ashu,ram,2.3,90.00\n",
            "List: ['10,20,34,34,ashu,ram,2.3,90.00']\n"
          ]
        }
      ]
    },
    {
      "cell_type": "code",
      "source": [
        "#Create List of Numbers with Given Range - Python\n",
        "a = 0\n",
        "li = list(range(0,2,10))\n",
        "print(li)"
      ],
      "metadata": {
        "id": "VfmwqWr5wdql",
        "outputId": "ec6e824f-3677-4c1c-ef58-0ba6c8fac775",
        "colab": {
          "base_uri": "https://localhost:8080/"
        }
      },
      "execution_count": 49,
      "outputs": [
        {
          "output_type": "stream",
          "name": "stdout",
          "text": [
            "[0]\n"
          ]
        }
      ]
    },
    {
      "cell_type": "code",
      "source": [
        "list = [10,20,30,40]\n",
        "\n",
        "list.extend([10,20,30])\n",
        "list"
      ],
      "metadata": {
        "id": "BOKpxARv1Cra",
        "outputId": "4b94b21d-5cf7-4c68-c96c-388ecb0dffbf",
        "colab": {
          "base_uri": "https://localhost:8080/"
        }
      },
      "execution_count": 55,
      "outputs": [
        {
          "output_type": "execute_result",
          "data": {
            "text/plain": [
              "[10, 20, 30, 40, 10, 20, 30]"
            ]
          },
          "metadata": {},
          "execution_count": 55
        }
      ]
    }
  ]
}