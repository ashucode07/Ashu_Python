{
  "nbformat": 4,
  "nbformat_minor": 0,
  "metadata": {
    "colab": {
      "provenance": []
    },
    "kernelspec": {
      "name": "python3",
      "display_name": "Python 3"
    },
    "language_info": {
      "name": "python"
    }
  },
  "cells": [
    {
      "cell_type": "code",
      "source": [
        "# A tuple in Python is an immutable ordered collection of elements.\n",
        "#tuples are ordered and immutable\n",
        "#A tuple is created by placing all the items inside parentheses (),\n",
        "#separated by commas. A tuple can have any number of items and they can be of different data types.\n",
        "tup = ()\n",
        "\n",
        "print(tup)\n",
        "\n",
        "tup = ('ashu',1,3,4,5,True)\n",
        "tup\n"
      ],
      "metadata": {
        "colab": {
          "base_uri": "https://localhost:8080/"
        },
        "id": "XX_p2OaOTvwa",
        "outputId": "128b45aa-1e2b-4c2b-84a8-533b016c8134"
      },
      "execution_count": 2,
      "outputs": [
        {
          "output_type": "stream",
          "name": "stdout",
          "text": [
            "()\n"
          ]
        },
        {
          "output_type": "execute_result",
          "data": {
            "text/plain": [
              "('ashu', 1, 3, 4, 5, True)"
            ]
          },
          "metadata": {},
          "execution_count": 2
        }
      ]
    },
    {
      "cell_type": "code",
      "source": [
        "#using list\n",
        "list = [1,3,4,5,6,6]\n",
        "list\n",
        "tup = tuple(list)\n",
        "tup"
      ],
      "metadata": {
        "colab": {
          "base_uri": "https://localhost:8080/"
        },
        "id": "LdVcyy5Va5t1",
        "outputId": "037f5361-07ad-47e7-c7c6-c12498337b00"
      },
      "execution_count": 4,
      "outputs": [
        {
          "output_type": "execute_result",
          "data": {
            "text/plain": [
              "(1, 3, 4, 5, 6, 6)"
            ]
          },
          "metadata": {},
          "execution_count": 4
        }
      ]
    },
    {
      "cell_type": "code",
      "source": [
        "#Tuples can contain elements of various data types, including other tuples, lists, dictionaries and even functions.\n",
        "\n",
        "tup = ('ram','shyam',13,45,)\n",
        "tup"
      ],
      "metadata": {
        "colab": {
          "base_uri": "https://localhost:8080/"
        },
        "id": "mVVRmVSCbMZW",
        "outputId": "38819adf-34c0-48bb-a1d8-e299d7179940"
      },
      "execution_count": 5,
      "outputs": [
        {
          "output_type": "execute_result",
          "data": {
            "text/plain": [
              "('ram', 'shyam', 13, 45)"
            ]
          },
          "metadata": {},
          "execution_count": 5
        }
      ]
    },
    {
      "cell_type": "code",
      "source": [
        "## Creating a Tuple with nested tuples\n",
        "tup1= ('rahul','shya,')\n",
        "tup2 = (12,34,55,'ram')\n",
        "tup3 = (tup1,tup2)\n",
        "tup3\n"
      ],
      "metadata": {
        "colab": {
          "base_uri": "https://localhost:8080/"
        },
        "id": "n-yLm0cxbc6j",
        "outputId": "dada9f13-2995-44b9-feee-04519bf656ee"
      },
      "execution_count": 8,
      "outputs": [
        {
          "output_type": "execute_result",
          "data": {
            "text/plain": [
              "(('rahul', 'shya,'), (12, 34, 55, 'ram'))"
            ]
          },
          "metadata": {},
          "execution_count": 8
        }
      ]
    },
    {
      "cell_type": "code",
      "source": [],
      "metadata": {
        "id": "PVNsMfpHcELV"
      },
      "execution_count": null,
      "outputs": []
    },
    {
      "cell_type": "code",
      "source": [
        "#Accessing of python tuple\n",
        "\n",
        "#We can access the elements of a tuple by using indexing and slicing, similar to how we access elements in a list.\n",
        "#Indexing starts at 0 for the first element and goes up to n-1,\n",
        "#where n is the number of elements in the tuple. Negative indexing starts from -1 for the last element and goes backward.\n",
        "\n",
        "#accessing tuple using indexing\n",
        "tup = (\"geeks\",\"ram\",\"shyam\")\n",
        "print(tup[1])\n",
        "\n",
        "# Accessing a range of elements using slicing\n",
        "print(tup[1:1])"
      ],
      "metadata": {
        "colab": {
          "base_uri": "https://localhost:8080/"
        },
        "id": "KayimygNcEWW",
        "outputId": "0ff2c935-703d-4b6e-8a28-b81a26e09c0b"
      },
      "execution_count": 16,
      "outputs": [
        {
          "output_type": "stream",
          "name": "stdout",
          "text": [
            "ram\n",
            "()\n"
          ]
        }
      ]
    },
    {
      "cell_type": "code",
      "source": [
        "#Concatenation of Tuples\n",
        "#Tuples can be concatenated using the + operator. This operation combines two or more tuples to create a new tuple.\n",
        "\n",
        "tup1 = (1,2,3,4,5,6)\n",
        "tup2 = (32,34,5,6,6,67)\n",
        "tup3 = (tup1 + tup2)\n",
        "tup3"
      ],
      "metadata": {
        "colab": {
          "base_uri": "https://localhost:8080/"
        },
        "id": "kCXvNFHYeGs_",
        "outputId": "f5d602dc-9430-49f2-839e-7cbb343fc49a"
      },
      "execution_count": 26,
      "outputs": [
        {
          "output_type": "execute_result",
          "data": {
            "text/plain": [
              "(1, 2, 3, 4, 5, 6, 32, 34, 5, 6, 6, 67)"
            ]
          },
          "metadata": {},
          "execution_count": 26
        }
      ]
    },
    {
      "cell_type": "code",
      "source": [
        "#tuple and list co concatnation\n",
        "\n",
        "tup = (1,2,4,5)\n",
        "li = [1,2,3,4]\n",
        "print(tup + tuple(li)) #by using tuple(list) : methode we can conver list in to tuple\n"
      ],
      "metadata": {
        "colab": {
          "base_uri": "https://localhost:8080/"
        },
        "id": "SRdbmHFcfwLs",
        "outputId": "dfe68fc5-232e-4909-ec03-e7f5a7a8d7f7"
      },
      "execution_count": 28,
      "outputs": [
        {
          "output_type": "stream",
          "name": "stdout",
          "text": [
            "(1, 2, 4, 5, 1, 2, 3, 4)\n"
          ]
        }
      ]
    },
    {
      "cell_type": "code",
      "source": [
        "#Slicing of Tuple\n",
        "\n",
        "#Note : Negative Increment values can also be used to reverse the sequence of Tuples.\n",
        "\n",
        "tup = tuple('GEEKSFORGEEKS')\n",
        "\n",
        "print(tup) #complete tuple\n",
        "print(tup[1:]) #removing first element\n",
        "print(tup[2:]) #removing second element\n",
        "\n",
        "# Reversing the Tuple\n",
        "\n",
        "print(tup[::-1])\n",
        "\n",
        "# Printing elements of a Range\n",
        "\n",
        "print(tup[3:6])"
      ],
      "metadata": {
        "id": "sDYqJYnygorI",
        "outputId": "1d94c0ef-f7f0-4b21-b1a5-cfff77b6ff9c",
        "colab": {
          "base_uri": "https://localhost:8080/"
        }
      },
      "execution_count": 38,
      "outputs": [
        {
          "output_type": "stream",
          "name": "stdout",
          "text": [
            "('G', 'E', 'E', 'K', 'S', 'F', 'O', 'R', 'G', 'E', 'E', 'K', 'S')\n",
            "('E', 'E', 'K', 'S', 'F', 'O', 'R', 'G', 'E', 'E', 'K', 'S')\n",
            "('E', 'K', 'S', 'F', 'O', 'R', 'G', 'E', 'E', 'K', 'S')\n",
            "('S', 'K', 'E', 'E', 'G', 'R', 'O', 'F', 'S', 'K', 'E', 'E', 'G')\n",
            "('K', 'S', 'F')\n"
          ]
        }
      ]
    },
    {
      "cell_type": "code",
      "source": [
        "#Deleting a Tuple\n",
        "# since tuple is imutable hence we can not delete the elements from the tuple\n",
        "#but we can delete the entire tuple using the del statement\n",
        "\n",
        "tup = (1,2,3,4,5)\n",
        "del tup\n"
      ],
      "metadata": {
        "id": "hM9jdxloj8oK",
        "outputId": "2cfb5972-1daf-4a5c-e96c-c304baec086f",
        "colab": {
          "base_uri": "https://localhost:8080/",
          "height": 176
        }
      },
      "execution_count": 41,
      "outputs": [
        {
          "output_type": "error",
          "ename": "NameError",
          "evalue": "name 'tup' is not defined",
          "traceback": [
            "\u001b[0;31m---------------------------------------------------------------------------\u001b[0m",
            "\u001b[0;31mNameError\u001b[0m                                 Traceback (most recent call last)",
            "\u001b[0;32m/tmp/ipython-input-41-533590853.py\u001b[0m in \u001b[0;36m<cell line: 0>\u001b[0;34m()\u001b[0m\n\u001b[1;32m      5\u001b[0m \u001b[0mtup\u001b[0m \u001b[0;34m=\u001b[0m \u001b[0;34m(\u001b[0m\u001b[0;36m1\u001b[0m\u001b[0;34m,\u001b[0m\u001b[0;36m2\u001b[0m\u001b[0;34m,\u001b[0m\u001b[0;36m3\u001b[0m\u001b[0;34m,\u001b[0m\u001b[0;36m4\u001b[0m\u001b[0;34m,\u001b[0m\u001b[0;36m5\u001b[0m\u001b[0;34m)\u001b[0m\u001b[0;34m\u001b[0m\u001b[0;34m\u001b[0m\u001b[0m\n\u001b[1;32m      6\u001b[0m \u001b[0;32mdel\u001b[0m \u001b[0mtup\u001b[0m\u001b[0;34m\u001b[0m\u001b[0;34m\u001b[0m\u001b[0m\n\u001b[0;32m----> 7\u001b[0;31m \u001b[0mtup\u001b[0m\u001b[0;34m\u001b[0m\u001b[0;34m\u001b[0m\u001b[0m\n\u001b[0m",
            "\u001b[0;31mNameError\u001b[0m: name 'tup' is not defined"
          ]
        }
      ]
    }
  ]
}