{
  "nbformat": 4,
  "nbformat_minor": 0,
  "metadata": {
    "colab": {
      "provenance": []
    },
    "kernelspec": {
      "name": "python3",
      "display_name": "Python 3"
    },
    "language_info": {
      "name": "python"
    }
  },
  "cells": [
    {
      "cell_type": "code",
      "execution_count": null,
      "metadata": {
        "colab": {
          "base_uri": "https://localhost:8080/"
        },
        "id": "HpmbKqI7jltH",
        "outputId": "0ec1bf68-5f68-4ec7-f746-ea081ec8cab5"
      },
      "outputs": [
        {
          "output_type": "stream",
          "name": "stdout",
          "text": [
            "hello world\n"
          ]
        }
      ],
      "source": [
        "print(\"hello world\")"
      ]
    },
    {
      "cell_type": "code",
      "source": [
        "# Sting Slicing\n",
        "s = \"bangulure\"\n",
        "\n",
        "print(s[3:0:-1])"
      ],
      "metadata": {
        "id": "34ZbDQBAxLWX",
        "outputId": "ad360846-4cca-4a0a-fe4d-6a879c5e8a2d",
        "colab": {
          "base_uri": "https://localhost:8080/"
        }
      },
      "execution_count": 7,
      "outputs": [
        {
          "output_type": "stream",
          "name": "stdout",
          "text": [
            "gna\n"
          ]
        }
      ]
    },
    {
      "cell_type": "code",
      "source": [
        "# Sting Slicing\n",
        "s = \"bangulure\"\n",
        "print(s[7:1:2])"
      ],
      "metadata": {
        "id": "vp6rPtsR4pzp",
        "outputId": "1a55c259-8790-48fa-dd84-a6acd6238500",
        "colab": {
          "base_uri": "https://localhost:8080/"
        }
      },
      "execution_count": 8,
      "outputs": [
        {
          "output_type": "stream",
          "name": "stdout",
          "text": [
            "\n"
          ]
        }
      ]
    },
    {
      "cell_type": "code",
      "source": [
        "# Sting Slicing\n",
        "s = \"bangulure\"\n",
        "print(s[-9:-4:2])"
      ],
      "metadata": {
        "id": "cog7_-tL4_Nh",
        "outputId": "58cd1134-6ad1-4e56-b7e2-afa6062b0aa5",
        "colab": {
          "base_uri": "https://localhost:8080/"
        }
      },
      "execution_count": 9,
      "outputs": [
        {
          "output_type": "stream",
          "name": "stdout",
          "text": [
            "bnu\n"
          ]
        }
      ]
    },
    {
      "cell_type": "code",
      "source": [
        "# Sting Slicing\n",
        "s = \"bangulure\"\n",
        "print(s[::])"
      ],
      "metadata": {
        "id": "U8pi0x6Z6hPt",
        "outputId": "5a03e2b2-79ba-48ba-cc9c-e8e4760254e0",
        "colab": {
          "base_uri": "https://localhost:8080/"
        }
      },
      "execution_count": 10,
      "outputs": [
        {
          "output_type": "stream",
          "name": "stdout",
          "text": [
            "bangulure\n"
          ]
        }
      ]
    },
    {
      "cell_type": "code",
      "source": [
        "string = \"hello, World!\"\n",
        "print(string[-5:2:-2])"
      ],
      "metadata": {
        "id": "so7pO8D_7cV0",
        "outputId": "ec443e87-e216-4442-82d5-ef158d58dc0a",
        "colab": {
          "base_uri": "https://localhost:8080/"
        }
      },
      "execution_count": 14,
      "outputs": [
        {
          "output_type": "stream",
          "name": "stdout",
          "text": [
            "o o\n"
          ]
        }
      ]
    },
    {
      "cell_type": "code",
      "source": [
        "#two dimensional string\n",
        "s = \"Python is fun!\"\n",
        "print(s[0:5][::-1])"
      ],
      "metadata": {
        "id": "X-xXNTFu9mB9",
        "outputId": "2743c68a-83b5-4e5c-fa8a-8ae078606bd2",
        "colab": {
          "base_uri": "https://localhost:8080/"
        }
      },
      "execution_count": 16,
      "outputs": [
        {
          "output_type": "stream",
          "name": "stdout",
          "text": [
            "ohtyP\n"
          ]
        }
      ]
    },
    {
      "cell_type": "code",
      "source": [
        "s = \"Programming\"\n",
        "print(s[3:len(s)-4])"
      ],
      "metadata": {
        "id": "x1S76hsx-GmD",
        "outputId": "889b635a-d646-4bca-83c3-2087cb112ef4",
        "colab": {
          "base_uri": "https://localhost:8080/"
        }
      },
      "execution_count": 17,
      "outputs": [
        {
          "output_type": "stream",
          "name": "stdout",
          "text": [
            "gram\n"
          ]
        }
      ]
    },
    {
      "cell_type": "code",
      "source": [
        "#if statement examples\n",
        "\n",
        "if 10>5:\n",
        "  print(\"start of if\")\n",
        "  print(\"10 is greater\")\n",
        "  print(\"end of if\")\n",
        "\n",
        "print(\"end of program\")"
      ],
      "metadata": {
        "id": "2xY69fXg-SCn",
        "outputId": "25da965e-104b-4bf3-c9eb-21b2e74565af",
        "colab": {
          "base_uri": "https://localhost:8080/"
        }
      },
      "execution_count": 21,
      "outputs": [
        {
          "output_type": "stream",
          "name": "stdout",
          "text": [
            "start of if\n",
            "10 is greater\n",
            "end of if\n",
            "end of program\n"
          ]
        }
      ]
    },
    {
      "cell_type": "code",
      "source": [
        "#if statement examples/ bcz condition is not satisfied its only printed the value outside of the if\n",
        "\n",
        "if 10>15:\n",
        "  print(\"start of if\")\n",
        "  print(\"10 is greater\")\n",
        "  print(\"end of if\")\n",
        "\n",
        "print(\"end of program\")"
      ],
      "metadata": {
        "id": "lHrkxXHW__SA",
        "outputId": "2546137d-a958-4f1c-8ec8-5b3bddd9613d",
        "colab": {
          "base_uri": "https://localhost:8080/"
        }
      },
      "execution_count": 23,
      "outputs": [
        {
          "output_type": "stream",
          "name": "stdout",
          "text": [
            "end of program\n"
          ]
        }
      ]
    },
    {
      "cell_type": "code",
      "source": [
        "#input function\n",
        "a = input(\"enter a value\")  #input fn retrns all the values in sting format\n",
        "print(a)\n",
        "print(type(a))"
      ],
      "metadata": {
        "id": "bR6F4L5HAMPe"
      },
      "execution_count": null,
      "outputs": []
    },
    {
      "cell_type": "code",
      "source": [
        "#input function with type casting\n",
        "a = input(\"enter a value\")  #input fn retrns all the values in sting format\n",
        "print(a)\n",
        "print(type(a))"
      ],
      "metadata": {
        "id": "GT550SSVCCt9"
      },
      "execution_count": null,
      "outputs": []
    },
    {
      "cell_type": "code",
      "source": [
        "#if else statement\n",
        "\n",
        "a = int(input(\"enter a value\"))\n",
        "b = int(input(\"enter b value\"))\n",
        "if a>b\n",
        "\n",
        "  print(\"a is greater\")\n",
        "else:\n",
        "  print(\"b is greater\")"
      ],
      "metadata": {
        "id": "VxROIxmnCI1o"
      },
      "execution_count": null,
      "outputs": []
    },
    {
      "cell_type": "code",
      "source": [
        "#if else ladder\n",
        "s = input(\" enter a color\")\n",
        "\n",
        "if s == \"red\":\n",
        "  print(\"stop\")\n",
        "elif s == \"yellow\":\n",
        "  print(\"ready\")\n",
        "elif s == \"green\":\n",
        "  print(\"go\")\n",
        "else:\n",
        "  print(\"wrong signal\")"
      ],
      "metadata": {
        "id": "lPfwEAaeDATT"
      },
      "execution_count": null,
      "outputs": []
    }
  ]
}